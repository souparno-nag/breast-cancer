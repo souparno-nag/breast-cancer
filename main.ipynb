{
 "cells": [
  {
   "cell_type": "code",
   "execution_count": 1,
   "id": "575bb750",
   "metadata": {},
   "outputs": [],
   "source": [
    "import pandas as pd\n",
    "\n",
    "df = pd.read_csv(\"breast.csv\", low_memory=False)\n"
   ]
  },
  {
   "cell_type": "code",
   "execution_count": 2,
   "id": "faa41931",
   "metadata": {},
   "outputs": [
    {
     "data": {
      "text/plain": [
       "(712319, 149)"
      ]
     },
     "execution_count": 2,
     "metadata": {},
     "output_type": "execute_result"
    }
   ],
   "source": [
    "df.shape"
   ]
  },
  {
   "cell_type": "code",
   "execution_count": 3,
   "id": "2460cab3",
   "metadata": {},
   "outputs": [],
   "source": [
    "df_sample = df.sample(60000, random_state=42)"
   ]
  },
  {
   "cell_type": "code",
   "execution_count": 4,
   "id": "44fe6629",
   "metadata": {},
   "outputs": [],
   "source": [
    "missing_values = df_sample.isnull().sum()\n",
    "missing_percent = (df_sample.isnull().sum() / len(df_sample)) * 100\n"
   ]
  },
  {
   "cell_type": "code",
   "execution_count": 15,
   "id": "4a380af8",
   "metadata": {},
   "outputs": [],
   "source": [
    "pd.set_option('display.max_rows', None)\n",
    "pd.set_option('display.max_columns', None)"
   ]
  },
  {
   "cell_type": "code",
   "execution_count": 6,
   "id": "1d947173",
   "metadata": {},
   "outputs": [
    {
     "data": {
      "text/plain": [
       "CASENUM                   0.000000\n",
       "REG                       0.000000\n",
       "MAR_STAT                  3.893333\n",
       "RACE                      0.286667\n",
       "ORIGIN                    0.493333\n",
       "NHIA                      0.000000\n",
       "SEX                       0.000000\n",
       "AGE_DX                    0.003333\n",
       "YR_BRTH                   0.003333\n",
       "SEQ_NUM                   0.003333\n",
       "DATE_mo                   0.000000\n",
       "DATE_yr                   0.000000\n",
       "SITEO2V                   0.000000\n",
       "LATERAL                   0.000000\n",
       "HISTO2V                   0.000000\n",
       "BEHO2V                    0.000000\n",
       "HISTO3V                   0.000000\n",
       "BEHO3V                    0.000000\n",
       "GRADE                     0.000000\n",
       "DX_CONF                   0.595000\n",
       "REPT_SRC                  0.000000\n",
       "EOD10_SZ                 59.795000\n",
       "EOD10_EX                 53.540000\n",
       "EOD10_PE                100.000000\n",
       "EOD10_ND                 53.540000\n",
       "EOD10_PN                 24.656667\n",
       "EOD10_NE                 25.380000\n",
       "EOD13                    87.685000\n",
       "EOD2                     98.061667\n",
       "EOD4                     89.598333\n",
       "EODCODE                  28.883333\n",
       "TUMOR_1V                 63.738333\n",
       "TUMOR_2V                 64.065000\n",
       "TUMOR_3V                100.000000\n",
       "CS_SIZE                  73.978333\n",
       "CS_EXT                   71.740000\n",
       "CS_NODE                  71.918333\n",
       "CS_METS                  71.116667\n",
       "CS_SSF1                  72.423333\n",
       "CS_SSF2                  72.560000\n",
       "CS_SSF3                  71.116667\n",
       "CS_SSF4                  71.116667\n",
       "CS_SSF5                  71.116667\n",
       "CS_SSF6                  71.116667\n",
       "CS_SSF25                 71.116667\n",
       "D_AJCC_T                 72.238333\n",
       "D_AJCC_N                 71.915000\n",
       "D_AJCC_M                 71.701667\n",
       "D_AJCC_S                 72.253333\n",
       "D_SSG77                  71.116667\n",
       "D_SSG00                  71.116667\n",
       "D_AJCC_F                 71.116667\n",
       "D_SSG77F                 71.116667\n",
       "D_SSG00F                 71.116667\n",
       "CSV_ORG                  71.116667\n",
       "CSV_DER                  71.116667\n",
       "CSV_CUR                  71.116667\n",
       "SURGPRIM                 51.083333\n",
       "SCOPE                    67.651667\n",
       "SURGOTH                  67.651667\n",
       "SURGNODE                 83.370000\n",
       "RECONST                  83.431667\n",
       "NO_SURG                   0.000000\n",
       "RADIATN                   0.000000\n",
       "RAD_BRN                   0.000000\n",
       "RAD_SURG                  0.121667\n",
       "SS_SURG                  48.916667\n",
       "SCOPE02                  83.431667\n",
       "SRGOTH02                 83.431667\n",
       "REC_NO                    0.000000\n",
       "O_SITAGE                 99.981667\n",
       "O_SEQCON                 99.770000\n",
       "O_SEQLAT                 99.390000\n",
       "O_SURCON                 99.976667\n",
       "O_SITTYP                 99.716667\n",
       "H_BENIGN                 99.960000\n",
       "O_RPTSRC                 99.973333\n",
       "O_DFSITE                 99.981667\n",
       "O_LEUKDX                 99.990000\n",
       "O_SITBEH                 99.978333\n",
       "O_EODDT                  99.993333\n",
       "O_SITEOD                 99.980000\n",
       "O_SITMOR                 99.963333\n",
       "TYPEFUP                   0.000000\n",
       "AGE_REC                   0.003333\n",
       "SITERWHO                  0.000000\n",
       "ICDOTO9V                  0.000000\n",
       "ICDOT10V                  0.000000\n",
       "ICCC3WHO                 15.221667\n",
       "ICCC3XWHO                15.221667\n",
       "BEHANAL                   0.000000\n",
       "HISTREC                   0.000000\n",
       "BRAINREC                  0.000000\n",
       "CS0204SCHEMA              0.000000\n",
       "RAC_RECA                  0.366667\n",
       "RAC_RECY                  0.366667\n",
       "NHIAREC                   0.000000\n",
       "HST_STGA                  0.000000\n",
       "AJCC_STG                 53.540000\n",
       "AJ_3SEER                 53.540000\n",
       "SSG77                    81.926667\n",
       "SSG2000                  89.930000\n",
       "NUMPRIMS                  0.000000\n",
       "FIRSTPRM                  0.000000\n",
       "STCOUNTY                  0.000000\n",
       "ICD_5DIG                  0.000000\n",
       "CODKM                     0.000000\n",
       "STAT_REC                  0.000000\n",
       "IHS                      18.875000\n",
       "HIST_SSG_2000            51.083333\n",
       "AYA_RECODE                0.000000\n",
       "LYMPHOMA_RECODE           0.000000\n",
       "DTH_CLASS                 0.000000\n",
       "O_DTH_CLASS               0.000000\n",
       "EXTEVAL                  74.556667\n",
       "NODEEVAL                 74.555000\n",
       "METSEVAL                 74.556667\n",
       "INTPRIM                   0.000000\n",
       "ERSTATUS                  0.000000\n",
       "PRSTATUS                  0.000000\n",
       "CSSCHEMA                  0.000000\n",
       "CS_SSF8                 100.000000\n",
       "CS_SSF10                100.000000\n",
       "CS_SSF11                100.000000\n",
       "CS_SSF13                100.000000\n",
       "CS_SSF15                 93.121667\n",
       "CS_SSF16                100.000000\n",
       "VASINV                  100.000000\n",
       "SRV_TIME_MON              0.000000\n",
       "SRV_TIME_MON_FLAG         0.000000\n",
       "SRV_TIME_MON_PA           0.000000\n",
       "SRV_TIME_MON_FLAG_PA      0.000000\n",
       "INSREC_PUB               81.275000\n",
       "DAJCC7T                  92.686667\n",
       "DAJCC7N                  92.630000\n",
       "DAJCC7M                  92.441667\n",
       "DAJCC7STG                92.653333\n",
       "ADJTM_6VALUE             24.656667\n",
       "ADJNM_6VALUE             24.656667\n",
       "ADJM_6VALUE              24.656667\n",
       "ADJAJCCSTG               24.656667\n",
       "CS7SITE                  94.145000\n",
       "CS9SITE                 100.000000\n",
       "CS12SITE                100.000000\n",
       "HER2                      0.000000\n",
       "BRST_SUB                  0.000000\n",
       "PLC_BRTH_CNTRY            0.000000\n",
       "PLC_BRTH_STATE            0.000000\n",
       "ANNARBOR                  0.000000\n",
       "dtype: float64"
      ]
     },
     "execution_count": 6,
     "metadata": {},
     "output_type": "execute_result"
    }
   ],
   "source": [
    "missing_percent"
   ]
  },
  {
   "cell_type": "code",
   "execution_count": 7,
   "id": "21cbca23",
   "metadata": {},
   "outputs": [],
   "source": [
    "df_sample.to_csv('df_sample.csv', index=False)\n"
   ]
  },
  {
   "cell_type": "code",
   "execution_count": 2,
   "id": "2b7bc937",
   "metadata": {},
   "outputs": [],
   "source": [
    "import pandas as pd\n",
    "df_sample = pd.read_csv('df_sample.csv')"
   ]
  },
  {
   "cell_type": "code",
   "execution_count": 3,
   "id": "d54f7965",
   "metadata": {},
   "outputs": [
    {
     "data": {
      "text/plain": [
       "(60000, 149)"
      ]
     },
     "execution_count": 3,
     "metadata": {},
     "output_type": "execute_result"
    }
   ],
   "source": [
    "df_sample.shape"
   ]
  },
  {
   "cell_type": "code",
   "execution_count": 4,
   "id": "9306097c",
   "metadata": {},
   "outputs": [],
   "source": [
    "df_sample = df_sample.dropna(thresh=len(df_sample) * 0.3, axis=1)"
   ]
  },
  {
   "cell_type": "code",
   "execution_count": 5,
   "id": "be570f01",
   "metadata": {},
   "outputs": [
    {
     "data": {
      "text/plain": [
       "(60000, 84)"
      ]
     },
     "execution_count": 5,
     "metadata": {},
     "output_type": "execute_result"
    }
   ],
   "source": [
    "df_sample.shape"
   ]
  },
  {
   "cell_type": "code",
   "execution_count": 6,
   "id": "421139c7",
   "metadata": {},
   "outputs": [],
   "source": [
    "df = df_sample"
   ]
  },
  {
   "cell_type": "code",
   "execution_count": 7,
   "id": "33e570e6",
   "metadata": {},
   "outputs": [
    {
     "data": {
      "text/plain": [
       "CASENUM           0.000000\n",
       "REG               0.000000\n",
       "MAR_STAT          3.893333\n",
       "RACE              0.286667\n",
       "ORIGIN            0.493333\n",
       "                    ...   \n",
       "HER2              0.000000\n",
       "BRST_SUB          0.000000\n",
       "PLC_BRTH_CNTRY    0.000000\n",
       "PLC_BRTH_STATE    0.000000\n",
       "ANNARBOR          0.000000\n",
       "Length: 84, dtype: float64"
      ]
     },
     "execution_count": 7,
     "metadata": {},
     "output_type": "execute_result"
    }
   ],
   "source": [
    "(df.isnull().sum() / len(df)) * 100"
   ]
  },
  {
   "cell_type": "code",
   "execution_count": 8,
   "id": "7834af0f",
   "metadata": {},
   "outputs": [
    {
     "name": "stderr",
     "output_type": "stream",
     "text": [
      "/tmp/ipykernel_10352/880116754.py:5: FutureWarning: A value is trying to be set on a copy of a DataFrame or Series through chained assignment using an inplace method.\n",
      "The behavior will change in pandas 3.0. This inplace method will never work because the intermediate object on which we are setting values always behaves as a copy.\n",
      "\n",
      "For example, when doing 'df[col].method(value, inplace=True)', try using 'df.method({col: value}, inplace=True)' or df[col] = df[col].method(value) instead, to perform the operation inplace on the original object.\n",
      "\n",
      "\n",
      "  df[col].fillna(df[col].mode()[0], inplace=True)\n",
      "/tmp/ipykernel_10352/880116754.py:11: FutureWarning: A value is trying to be set on a copy of a DataFrame or Series through chained assignment using an inplace method.\n",
      "The behavior will change in pandas 3.0. This inplace method will never work because the intermediate object on which we are setting values always behaves as a copy.\n",
      "\n",
      "For example, when doing 'df[col].method(value, inplace=True)', try using 'df.method({col: value}, inplace=True)' or df[col] = df[col].method(value) instead, to perform the operation inplace on the original object.\n",
      "\n",
      "\n",
      "  df[col].fillna(df[col].median(), inplace=True)\n",
      "/tmp/ipykernel_10352/880116754.py:11: FutureWarning: A value is trying to be set on a copy of a DataFrame or Series through chained assignment using an inplace method.\n",
      "The behavior will change in pandas 3.0. This inplace method will never work because the intermediate object on which we are setting values always behaves as a copy.\n",
      "\n",
      "For example, when doing 'df[col].method(value, inplace=True)', try using 'df.method({col: value}, inplace=True)' or df[col] = df[col].method(value) instead, to perform the operation inplace on the original object.\n",
      "\n",
      "\n",
      "  df[col].fillna(df[col].median(), inplace=True)\n",
      "/tmp/ipykernel_10352/880116754.py:11: FutureWarning: A value is trying to be set on a copy of a DataFrame or Series through chained assignment using an inplace method.\n",
      "The behavior will change in pandas 3.0. This inplace method will never work because the intermediate object on which we are setting values always behaves as a copy.\n",
      "\n",
      "For example, when doing 'df[col].method(value, inplace=True)', try using 'df.method({col: value}, inplace=True)' or df[col] = df[col].method(value) instead, to perform the operation inplace on the original object.\n",
      "\n",
      "\n",
      "  df[col].fillna(df[col].median(), inplace=True)\n",
      "/tmp/ipykernel_10352/880116754.py:11: FutureWarning: A value is trying to be set on a copy of a DataFrame or Series through chained assignment using an inplace method.\n",
      "The behavior will change in pandas 3.0. This inplace method will never work because the intermediate object on which we are setting values always behaves as a copy.\n",
      "\n",
      "For example, when doing 'df[col].method(value, inplace=True)', try using 'df.method({col: value}, inplace=True)' or df[col] = df[col].method(value) instead, to perform the operation inplace on the original object.\n",
      "\n",
      "\n",
      "  df[col].fillna(df[col].median(), inplace=True)\n",
      "/tmp/ipykernel_10352/880116754.py:11: FutureWarning: A value is trying to be set on a copy of a DataFrame or Series through chained assignment using an inplace method.\n",
      "The behavior will change in pandas 3.0. This inplace method will never work because the intermediate object on which we are setting values always behaves as a copy.\n",
      "\n",
      "For example, when doing 'df[col].method(value, inplace=True)', try using 'df.method({col: value}, inplace=True)' or df[col] = df[col].method(value) instead, to perform the operation inplace on the original object.\n",
      "\n",
      "\n",
      "  df[col].fillna(df[col].median(), inplace=True)\n",
      "/tmp/ipykernel_10352/880116754.py:11: FutureWarning: A value is trying to be set on a copy of a DataFrame or Series through chained assignment using an inplace method.\n",
      "The behavior will change in pandas 3.0. This inplace method will never work because the intermediate object on which we are setting values always behaves as a copy.\n",
      "\n",
      "For example, when doing 'df[col].method(value, inplace=True)', try using 'df.method({col: value}, inplace=True)' or df[col] = df[col].method(value) instead, to perform the operation inplace on the original object.\n",
      "\n",
      "\n",
      "  df[col].fillna(df[col].median(), inplace=True)\n",
      "/tmp/ipykernel_10352/880116754.py:11: FutureWarning: A value is trying to be set on a copy of a DataFrame or Series through chained assignment using an inplace method.\n",
      "The behavior will change in pandas 3.0. This inplace method will never work because the intermediate object on which we are setting values always behaves as a copy.\n",
      "\n",
      "For example, when doing 'df[col].method(value, inplace=True)', try using 'df.method({col: value}, inplace=True)' or df[col] = df[col].method(value) instead, to perform the operation inplace on the original object.\n",
      "\n",
      "\n",
      "  df[col].fillna(df[col].median(), inplace=True)\n"
     ]
    }
   ],
   "source": [
    "# 1. Categorical columns\n",
    "categorical_cols = ['MAR_STAT', 'RACE', 'ORIGIN', 'DX_CONF', 'RAC_RECA', 'RAC_RECY', 'IHS']\n",
    "for col in categorical_cols:\n",
    "    if col in df.columns and df[col].isnull().any():\n",
    "        df[col].fillna(df[col].mode()[0], inplace=True)\n",
    "\n",
    "# 2. Numeric columns\n",
    "numeric_cols = ['AGE_DX', 'YR_BRTH', 'AGE_REC', 'ADJTM_6VALUE', 'ADJNM_6VALUE', 'ADJM_6VALUE', 'ADJAJCCSTG']\n",
    "for col in numeric_cols:\n",
    "    if col in df.columns and df[col].isnull().any():\n",
    "        df[col].fillna(df[col].median(), inplace=True)\n",
    "\n",
    "# 3. Binary flags\n",
    "binary_cols = ['INTPRIM', 'ERSTATUS', 'PRSTATUS']\n",
    "for col in binary_cols:\n",
    "    if col in df.columns and df[col].isnull().any():\n",
    "        df[col].fillna(df[col].mode()[0], inplace=True)\n"
   ]
  },
  {
   "cell_type": "code",
   "execution_count": 9,
   "id": "cd81ca09",
   "metadata": {},
   "outputs": [
    {
     "data": {
      "text/plain": [
       "CASENUM           0.0\n",
       "REG               0.0\n",
       "MAR_STAT          0.0\n",
       "RACE              0.0\n",
       "ORIGIN            0.0\n",
       "                 ... \n",
       "HER2              0.0\n",
       "BRST_SUB          0.0\n",
       "PLC_BRTH_CNTRY    0.0\n",
       "PLC_BRTH_STATE    0.0\n",
       "ANNARBOR          0.0\n",
       "Length: 84, dtype: float64"
      ]
     },
     "execution_count": 9,
     "metadata": {},
     "output_type": "execute_result"
    }
   ],
   "source": [
    "(df.isnull().sum() / len(df)) * 100"
   ]
  },
  {
   "cell_type": "code",
   "execution_count": 10,
   "id": "8f24e506",
   "metadata": {},
   "outputs": [],
   "source": [
    "df = df.dropna(thresh=len(df) * 0.5, axis=1)"
   ]
  },
  {
   "cell_type": "code",
   "execution_count": 11,
   "id": "be86adbd",
   "metadata": {},
   "outputs": [
    {
     "data": {
      "text/plain": [
       "CASENUM           0.0\n",
       "REG               0.0\n",
       "MAR_STAT          0.0\n",
       "RACE              0.0\n",
       "ORIGIN            0.0\n",
       "                 ... \n",
       "HER2              0.0\n",
       "BRST_SUB          0.0\n",
       "PLC_BRTH_CNTRY    0.0\n",
       "PLC_BRTH_STATE    0.0\n",
       "ANNARBOR          0.0\n",
       "Length: 73, dtype: float64"
      ]
     },
     "execution_count": 11,
     "metadata": {},
     "output_type": "execute_result"
    }
   ],
   "source": [
    "(df.isnull().sum() / len(df)) * 100"
   ]
  },
  {
   "cell_type": "code",
   "execution_count": 12,
   "id": "f2297288",
   "metadata": {},
   "outputs": [
    {
     "name": "stderr",
     "output_type": "stream",
     "text": [
      "/tmp/ipykernel_10352/3622282396.py:1: SettingWithCopyWarning: \n",
      "A value is trying to be set on a copy of a slice from a DataFrame\n",
      "\n",
      "See the caveats in the documentation: https://pandas.pydata.org/pandas-docs/stable/user_guide/indexing.html#returning-a-view-versus-a-copy\n",
      "  df.drop(columns=['EOD10_PN', 'EOD10_NE', 'EODCODE', 'SS_SURG', 'ICCC3WHO', 'ICCC3XWHO'], inplace=True)\n"
     ]
    }
   ],
   "source": [
    "df.drop(columns=['EOD10_PN', 'EOD10_NE', 'EODCODE', 'SS_SURG', 'ICCC3WHO', 'ICCC3XWHO'], inplace=True)"
   ]
  },
  {
   "cell_type": "code",
   "execution_count": 13,
   "id": "b9f3143b",
   "metadata": {},
   "outputs": [
    {
     "name": "stderr",
     "output_type": "stream",
     "text": [
      "/tmp/ipykernel_10352/3494513085.py:2: FutureWarning: A value is trying to be set on a copy of a DataFrame or Series through chained assignment using an inplace method.\n",
      "The behavior will change in pandas 3.0. This inplace method will never work because the intermediate object on which we are setting values always behaves as a copy.\n",
      "\n",
      "For example, when doing 'df[col].method(value, inplace=True)', try using 'df.method({col: value}, inplace=True)' or df[col] = df[col].method(value) instead, to perform the operation inplace on the original object.\n",
      "\n",
      "\n",
      "  df['SEQ_NUM'].fillna(df['SEQ_NUM'].median(), inplace=True)\n",
      "/tmp/ipykernel_10352/3494513085.py:2: SettingWithCopyWarning: \n",
      "A value is trying to be set on a copy of a slice from a DataFrame\n",
      "\n",
      "See the caveats in the documentation: https://pandas.pydata.org/pandas-docs/stable/user_guide/indexing.html#returning-a-view-versus-a-copy\n",
      "  df['SEQ_NUM'].fillna(df['SEQ_NUM'].median(), inplace=True)\n",
      "/tmp/ipykernel_10352/3494513085.py:3: FutureWarning: A value is trying to be set on a copy of a DataFrame or Series through chained assignment using an inplace method.\n",
      "The behavior will change in pandas 3.0. This inplace method will never work because the intermediate object on which we are setting values always behaves as a copy.\n",
      "\n",
      "For example, when doing 'df[col].method(value, inplace=True)', try using 'df.method({col: value}, inplace=True)' or df[col] = df[col].method(value) instead, to perform the operation inplace on the original object.\n",
      "\n",
      "\n",
      "  df['RAD_SURG'].fillna(df['RAD_SURG'].mode()[0], inplace=True)\n",
      "/tmp/ipykernel_10352/3494513085.py:3: SettingWithCopyWarning: \n",
      "A value is trying to be set on a copy of a slice from a DataFrame\n",
      "\n",
      "See the caveats in the documentation: https://pandas.pydata.org/pandas-docs/stable/user_guide/indexing.html#returning-a-view-versus-a-copy\n",
      "  df['RAD_SURG'].fillna(df['RAD_SURG'].mode()[0], inplace=True)\n"
     ]
    }
   ],
   "source": [
    "# Impute very low-missing fields\n",
    "df['SEQ_NUM'].fillna(df['SEQ_NUM'].median(), inplace=True)\n",
    "df['RAD_SURG'].fillna(df['RAD_SURG'].mode()[0], inplace=True)\n"
   ]
  },
  {
   "cell_type": "code",
   "execution_count": 16,
   "id": "bcabb5f3",
   "metadata": {},
   "outputs": [
    {
     "data": {
      "text/plain": [
       "CASENUM                 0.0\n",
       "REG                     0.0\n",
       "MAR_STAT                0.0\n",
       "RACE                    0.0\n",
       "ORIGIN                  0.0\n",
       "NHIA                    0.0\n",
       "SEX                     0.0\n",
       "AGE_DX                  0.0\n",
       "YR_BRTH                 0.0\n",
       "SEQ_NUM                 0.0\n",
       "DATE_mo                 0.0\n",
       "DATE_yr                 0.0\n",
       "SITEO2V                 0.0\n",
       "LATERAL                 0.0\n",
       "HISTO2V                 0.0\n",
       "BEHO2V                  0.0\n",
       "HISTO3V                 0.0\n",
       "BEHO3V                  0.0\n",
       "GRADE                   0.0\n",
       "DX_CONF                 0.0\n",
       "REPT_SRC                0.0\n",
       "NO_SURG                 0.0\n",
       "RADIATN                 0.0\n",
       "RAD_BRN                 0.0\n",
       "RAD_SURG                0.0\n",
       "REC_NO                  0.0\n",
       "TYPEFUP                 0.0\n",
       "AGE_REC                 0.0\n",
       "SITERWHO                0.0\n",
       "ICDOTO9V                0.0\n",
       "ICDOT10V                0.0\n",
       "BEHANAL                 0.0\n",
       "HISTREC                 0.0\n",
       "BRAINREC                0.0\n",
       "CS0204SCHEMA            0.0\n",
       "RAC_RECA                0.0\n",
       "RAC_RECY                0.0\n",
       "NHIAREC                 0.0\n",
       "HST_STGA                0.0\n",
       "NUMPRIMS                0.0\n",
       "FIRSTPRM                0.0\n",
       "STCOUNTY                0.0\n",
       "ICD_5DIG                0.0\n",
       "CODKM                   0.0\n",
       "STAT_REC                0.0\n",
       "IHS                     0.0\n",
       "AYA_RECODE              0.0\n",
       "LYMPHOMA_RECODE         0.0\n",
       "DTH_CLASS               0.0\n",
       "O_DTH_CLASS             0.0\n",
       "INTPRIM                 0.0\n",
       "ERSTATUS                0.0\n",
       "PRSTATUS                0.0\n",
       "CSSCHEMA                0.0\n",
       "SRV_TIME_MON            0.0\n",
       "SRV_TIME_MON_FLAG       0.0\n",
       "SRV_TIME_MON_PA         0.0\n",
       "SRV_TIME_MON_FLAG_PA    0.0\n",
       "ADJTM_6VALUE            0.0\n",
       "ADJNM_6VALUE            0.0\n",
       "ADJM_6VALUE             0.0\n",
       "ADJAJCCSTG              0.0\n",
       "HER2                    0.0\n",
       "BRST_SUB                0.0\n",
       "PLC_BRTH_CNTRY          0.0\n",
       "PLC_BRTH_STATE          0.0\n",
       "ANNARBOR                0.0\n",
       "dtype: float64"
      ]
     },
     "execution_count": 16,
     "metadata": {},
     "output_type": "execute_result"
    }
   ],
   "source": [
    "(df.isnull().sum() / len(df)) * 100"
   ]
  },
  {
   "cell_type": "code",
   "execution_count": 17,
   "id": "19c85118",
   "metadata": {},
   "outputs": [
    {
     "name": "stderr",
     "output_type": "stream",
     "text": [
      "/tmp/ipykernel_10352/3480518062.py:1: SettingWithCopyWarning: \n",
      "A value is trying to be set on a copy of a slice from a DataFrame.\n",
      "Try using .loc[row_indexer,col_indexer] = value instead\n",
      "\n",
      "See the caveats in the documentation: https://pandas.pydata.org/pandas-docs/stable/user_guide/indexing.html#returning-a-view-versus-a-copy\n",
      "  df['is_malignant'] = (df['BEHO3V'] == 3).astype(int)\n"
     ]
    }
   ],
   "source": [
    "df['is_malignant'] = (df['BEHO3V'] == 3).astype(int)\n"
   ]
  },
  {
   "cell_type": "code",
   "execution_count": 20,
   "id": "ee229623",
   "metadata": {},
   "outputs": [],
   "source": [
    "X = df.drop(columns=['is_malignant'])\n",
    "y = df['is_malignant']\n"
   ]
  },
  {
   "cell_type": "code",
   "execution_count": 21,
   "id": "cb02a4b4",
   "metadata": {},
   "outputs": [],
   "source": [
    "from sklearn.model_selection import train_test_split\n",
    "X_train, X_test, y_train, y_test = train_test_split(X, y, test_size=0.2, random_state=42)\n"
   ]
  },
  {
   "cell_type": "code",
   "execution_count": 22,
   "id": "b50cc74c",
   "metadata": {},
   "outputs": [],
   "source": [
    "from sklearn.model_selection import train_test_split\n",
    "from sklearn.linear_model import LogisticRegression\n",
    "from sklearn.metrics import classification_report, confusion_matrix\n",
    "from sklearn.preprocessing import StandardScaler"
   ]
  },
  {
   "cell_type": "code",
   "execution_count": 24,
   "id": "1cdb7fcd",
   "metadata": {},
   "outputs": [],
   "source": [
    "# Identify non-numeric (object) columns\n",
    "non_numeric_cols = df.select_dtypes(include=['object']).columns.tolist()\n",
    "\n",
    "# Drop ones that shouldn't be encoded (e.g., IDs if still present)\n",
    "non_numeric_cols = [col for col in non_numeric_cols if col not in ['CASENUM', 'REC_NO']]\n",
    "\n",
    "# Apply one-hot encoding\n",
    "df = pd.get_dummies(df, columns=non_numeric_cols, drop_first=True)\n"
   ]
  },
  {
   "cell_type": "code",
   "execution_count": 25,
   "id": "8444c61c",
   "metadata": {},
   "outputs": [
    {
     "ename": "ValueError",
     "evalue": "could not convert string to float: 'C509'",
     "output_type": "error",
     "traceback": [
      "\u001b[31m---------------------------------------------------------------------------\u001b[39m",
      "\u001b[31mValueError\u001b[39m                                Traceback (most recent call last)",
      "\u001b[32m/tmp/ipykernel_10352/3792798962.py\u001b[39m in \u001b[36m?\u001b[39m\u001b[34m()\u001b[39m\n\u001b[32m      1\u001b[39m model = LogisticRegression(max_iter=\u001b[32m1000\u001b[39m, solver=\u001b[33m'lbfgs'\u001b[39m)\n\u001b[32m----> \u001b[39m\u001b[32m2\u001b[39m model.fit(X_train, y_train)\n",
      "\u001b[32m~/Documents/breast-cancer/breast_env/lib/python3.12/site-packages/sklearn/base.py\u001b[39m in \u001b[36m?\u001b[39m\u001b[34m(estimator, *args, **kwargs)\u001b[39m\n\u001b[32m   1359\u001b[39m                 skip_parameter_validation=(\n\u001b[32m   1360\u001b[39m                     prefer_skip_nested_validation \u001b[38;5;28;01mor\u001b[39;00m global_skip_validation\n\u001b[32m   1361\u001b[39m                 )\n\u001b[32m   1362\u001b[39m             ):\n\u001b[32m-> \u001b[39m\u001b[32m1363\u001b[39m                 \u001b[38;5;28;01mreturn\u001b[39;00m fit_method(estimator, *args, **kwargs)\n",
      "\u001b[32m~/Documents/breast-cancer/breast_env/lib/python3.12/site-packages/sklearn/linear_model/_logistic.py\u001b[39m in \u001b[36m?\u001b[39m\u001b[34m(self, X, y, sample_weight)\u001b[39m\n\u001b[32m   1235\u001b[39m             _dtype = np.float64\n\u001b[32m   1236\u001b[39m         \u001b[38;5;28;01melse\u001b[39;00m:\n\u001b[32m   1237\u001b[39m             _dtype = [np.float64, np.float32]\n\u001b[32m   1238\u001b[39m \n\u001b[32m-> \u001b[39m\u001b[32m1239\u001b[39m         X, y = validate_data(\n\u001b[32m   1240\u001b[39m             self,\n\u001b[32m   1241\u001b[39m             X,\n\u001b[32m   1242\u001b[39m             y,\n",
      "\u001b[32m~/Documents/breast-cancer/breast_env/lib/python3.12/site-packages/sklearn/utils/validation.py\u001b[39m in \u001b[36m?\u001b[39m\u001b[34m(_estimator, X, y, reset, validate_separately, skip_check_array, **check_params)\u001b[39m\n\u001b[32m   2967\u001b[39m             \u001b[38;5;28;01mif\u001b[39;00m \u001b[33m\"estimator\"\u001b[39m \u001b[38;5;28;01mnot\u001b[39;00m \u001b[38;5;28;01min\u001b[39;00m check_y_params:\n\u001b[32m   2968\u001b[39m                 check_y_params = {**default_check_params, **check_y_params}\n\u001b[32m   2969\u001b[39m             y = check_array(y, input_name=\u001b[33m\"y\"\u001b[39m, **check_y_params)\n\u001b[32m   2970\u001b[39m         \u001b[38;5;28;01melse\u001b[39;00m:\n\u001b[32m-> \u001b[39m\u001b[32m2971\u001b[39m             X, y = check_X_y(X, y, **check_params)\n\u001b[32m   2972\u001b[39m         out = X, y\n\u001b[32m   2973\u001b[39m \n\u001b[32m   2974\u001b[39m     \u001b[38;5;28;01mif\u001b[39;00m \u001b[38;5;28;01mnot\u001b[39;00m no_val_X \u001b[38;5;28;01mand\u001b[39;00m check_params.get(\u001b[33m\"ensure_2d\"\u001b[39m, \u001b[38;5;28;01mTrue\u001b[39;00m):\n",
      "\u001b[32m~/Documents/breast-cancer/breast_env/lib/python3.12/site-packages/sklearn/utils/validation.py\u001b[39m in \u001b[36m?\u001b[39m\u001b[34m(X, y, accept_sparse, accept_large_sparse, dtype, order, copy, force_writeable, force_all_finite, ensure_all_finite, ensure_2d, allow_nd, multi_output, ensure_min_samples, ensure_min_features, y_numeric, estimator)\u001b[39m\n\u001b[32m   1364\u001b[39m         )\n\u001b[32m   1365\u001b[39m \n\u001b[32m   1366\u001b[39m     ensure_all_finite = _deprecate_force_all_finite(force_all_finite, ensure_all_finite)\n\u001b[32m   1367\u001b[39m \n\u001b[32m-> \u001b[39m\u001b[32m1368\u001b[39m     X = check_array(\n\u001b[32m   1369\u001b[39m         X,\n\u001b[32m   1370\u001b[39m         accept_sparse=accept_sparse,\n\u001b[32m   1371\u001b[39m         accept_large_sparse=accept_large_sparse,\n",
      "\u001b[32m~/Documents/breast-cancer/breast_env/lib/python3.12/site-packages/sklearn/utils/validation.py\u001b[39m in \u001b[36m?\u001b[39m\u001b[34m(array, accept_sparse, accept_large_sparse, dtype, order, copy, force_writeable, force_all_finite, ensure_all_finite, ensure_non_negative, ensure_2d, allow_nd, ensure_min_samples, ensure_min_features, estimator, input_name)\u001b[39m\n\u001b[32m   1050\u001b[39m                         )\n\u001b[32m   1051\u001b[39m                     array = xp.astype(array, dtype, copy=\u001b[38;5;28;01mFalse\u001b[39;00m)\n\u001b[32m   1052\u001b[39m                 \u001b[38;5;28;01melse\u001b[39;00m:\n\u001b[32m   1053\u001b[39m                     array = _asarray_with_order(array, order=order, dtype=dtype, xp=xp)\n\u001b[32m-> \u001b[39m\u001b[32m1054\u001b[39m             \u001b[38;5;28;01mexcept\u001b[39;00m ComplexWarning \u001b[38;5;28;01mas\u001b[39;00m complex_warning:\n\u001b[32m   1055\u001b[39m                 raise ValueError(\n\u001b[32m   1056\u001b[39m                     \u001b[33m\"Complex data not supported\\n{}\\n\"\u001b[39m.format(array)\n\u001b[32m   1057\u001b[39m                 ) \u001b[38;5;28;01mfrom\u001b[39;00m complex_warning\n",
      "\u001b[32m~/Documents/breast-cancer/breast_env/lib/python3.12/site-packages/sklearn/utils/_array_api.py\u001b[39m in \u001b[36m?\u001b[39m\u001b[34m(array, dtype, order, copy, xp, device)\u001b[39m\n\u001b[32m    753\u001b[39m         \u001b[38;5;66;03m# Use NumPy API to support order\u001b[39;00m\n\u001b[32m    754\u001b[39m         \u001b[38;5;28;01mif\u001b[39;00m copy \u001b[38;5;28;01mis\u001b[39;00m \u001b[38;5;28;01mTrue\u001b[39;00m:\n\u001b[32m    755\u001b[39m             array = numpy.array(array, order=order, dtype=dtype)\n\u001b[32m    756\u001b[39m         \u001b[38;5;28;01melse\u001b[39;00m:\n\u001b[32m--> \u001b[39m\u001b[32m757\u001b[39m             array = numpy.asarray(array, order=order, dtype=dtype)\n\u001b[32m    758\u001b[39m \n\u001b[32m    759\u001b[39m         \u001b[38;5;66;03m# At this point array is a NumPy ndarray. We convert it to an array\u001b[39;00m\n\u001b[32m    760\u001b[39m         \u001b[38;5;66;03m# container that is consistent with the input's namespace.\u001b[39;00m\n",
      "\u001b[32m~/Documents/breast-cancer/breast_env/lib/python3.12/site-packages/pandas/core/generic.py\u001b[39m in \u001b[36m?\u001b[39m\u001b[34m(self, dtype, copy)\u001b[39m\n\u001b[32m   2164\u001b[39m             )\n\u001b[32m   2165\u001b[39m         values = self._values\n\u001b[32m   2166\u001b[39m         \u001b[38;5;28;01mif\u001b[39;00m copy \u001b[38;5;28;01mis\u001b[39;00m \u001b[38;5;28;01mNone\u001b[39;00m:\n\u001b[32m   2167\u001b[39m             \u001b[38;5;66;03m# Note: branch avoids `copy=None` for NumPy 1.x support\u001b[39;00m\n\u001b[32m-> \u001b[39m\u001b[32m2168\u001b[39m             arr = np.asarray(values, dtype=dtype)\n\u001b[32m   2169\u001b[39m         \u001b[38;5;28;01melse\u001b[39;00m:\n\u001b[32m   2170\u001b[39m             arr = np.array(values, dtype=dtype, copy=copy)\n\u001b[32m   2171\u001b[39m \n",
      "\u001b[31mValueError\u001b[39m: could not convert string to float: 'C509'"
     ]
    }
   ],
   "source": [
    "model = LogisticRegression(max_iter=1000, solver='lbfgs')\n",
    "model.fit(X_train, y_train)"
   ]
  },
  {
   "cell_type": "code",
   "execution_count": 27,
   "id": "4baf629d",
   "metadata": {},
   "outputs": [],
   "source": [
    "result = df.isin(['C509'])"
   ]
  },
  {
   "cell_type": "code",
   "execution_count": 28,
   "id": "4c6a25cf",
   "metadata": {},
   "outputs": [
    {
     "name": "stdout",
     "output_type": "stream",
     "text": [
      "Locations of 'C509': []\n"
     ]
    }
   ],
   "source": [
    "locations = result[result].stack().index.tolist()\n",
    "print(\"Locations of 'C509':\", locations)"
   ]
  },
  {
   "cell_type": "code",
   "execution_count": 31,
   "id": "a6f55977",
   "metadata": {},
   "outputs": [],
   "source": [
    "# 1. Identify object (string) columns\n",
    "object_cols = df.select_dtypes(include=['object']).columns.tolist()\n",
    "\n",
    "# 2. One-hot encode them\n",
    "df = pd.get_dummies(df, columns=object_cols, drop_first=True)\n"
   ]
  },
  {
   "cell_type": "code",
   "execution_count": 35,
   "id": "e118aeaf",
   "metadata": {},
   "outputs": [
    {
     "ename": "KeyError",
     "evalue": "\"None of [Index(['SITEO2V', 'ICDOT10V', 'PLC_BRTH_CNTRY', 'PLC_BRTH_STATE'], dtype='object')] are in the [columns]\"",
     "output_type": "error",
     "traceback": [
      "\u001b[31m---------------------------------------------------------------------------\u001b[39m",
      "\u001b[31mKeyError\u001b[39m                                  Traceback (most recent call last)",
      "\u001b[36mCell\u001b[39m\u001b[36m \u001b[39m\u001b[32mIn[35]\u001b[39m\u001b[32m, line 4\u001b[39m\n\u001b[32m      1\u001b[39m cols_to_encode = [\u001b[33m'\u001b[39m\u001b[33mSITEO2V\u001b[39m\u001b[33m'\u001b[39m, \u001b[33m'\u001b[39m\u001b[33mICDOT10V\u001b[39m\u001b[33m'\u001b[39m, \u001b[33m'\u001b[39m\u001b[33mPLC_BRTH_CNTRY\u001b[39m\u001b[33m'\u001b[39m, \u001b[33m'\u001b[39m\u001b[33mPLC_BRTH_STATE\u001b[39m\u001b[33m'\u001b[39m]\n\u001b[32m      3\u001b[39m \u001b[38;5;66;03m# Apply one-hot encoding\u001b[39;00m\n\u001b[32m----> \u001b[39m\u001b[32m4\u001b[39m df = \u001b[43mpd\u001b[49m\u001b[43m.\u001b[49m\u001b[43mget_dummies\u001b[49m\u001b[43m(\u001b[49m\u001b[43mdf\u001b[49m\u001b[43m,\u001b[49m\u001b[43m \u001b[49m\u001b[43mcolumns\u001b[49m\u001b[43m=\u001b[49m\u001b[43mcols_to_encode\u001b[49m\u001b[43m,\u001b[49m\u001b[43m \u001b[49m\u001b[43mdrop_first\u001b[49m\u001b[43m=\u001b[49m\u001b[38;5;28;43;01mTrue\u001b[39;49;00m\u001b[43m)\u001b[49m\n",
      "\u001b[36mFile \u001b[39m\u001b[32m~/Documents/breast-cancer/breast_env/lib/python3.12/site-packages/pandas/core/reshape/encoding.py:170\u001b[39m, in \u001b[36mget_dummies\u001b[39m\u001b[34m(data, prefix, prefix_sep, dummy_na, columns, sparse, drop_first, dtype)\u001b[39m\n\u001b[32m    168\u001b[39m     \u001b[38;5;28;01mraise\u001b[39;00m \u001b[38;5;167;01mTypeError\u001b[39;00m(\u001b[33m\"\u001b[39m\u001b[33mInput must be a list-like for parameter `columns`\u001b[39m\u001b[33m\"\u001b[39m)\n\u001b[32m    169\u001b[39m \u001b[38;5;28;01melse\u001b[39;00m:\n\u001b[32m--> \u001b[39m\u001b[32m170\u001b[39m     data_to_encode = \u001b[43mdata\u001b[49m\u001b[43m[\u001b[49m\u001b[43mcolumns\u001b[49m\u001b[43m]\u001b[49m\n\u001b[32m    172\u001b[39m \u001b[38;5;66;03m# validate prefixes and separator to avoid silently dropping cols\u001b[39;00m\n\u001b[32m    173\u001b[39m \u001b[38;5;28;01mdef\u001b[39;00m\u001b[38;5;250m \u001b[39m\u001b[34mcheck_len\u001b[39m(item, name: \u001b[38;5;28mstr\u001b[39m):\n",
      "\u001b[36mFile \u001b[39m\u001b[32m~/Documents/breast-cancer/breast_env/lib/python3.12/site-packages/pandas/core/frame.py:4113\u001b[39m, in \u001b[36mDataFrame.__getitem__\u001b[39m\u001b[34m(self, key)\u001b[39m\n\u001b[32m   4111\u001b[39m     \u001b[38;5;28;01mif\u001b[39;00m is_iterator(key):\n\u001b[32m   4112\u001b[39m         key = \u001b[38;5;28mlist\u001b[39m(key)\n\u001b[32m-> \u001b[39m\u001b[32m4113\u001b[39m     indexer = \u001b[38;5;28;43mself\u001b[39;49m\u001b[43m.\u001b[49m\u001b[43mcolumns\u001b[49m\u001b[43m.\u001b[49m\u001b[43m_get_indexer_strict\u001b[49m\u001b[43m(\u001b[49m\u001b[43mkey\u001b[49m\u001b[43m,\u001b[49m\u001b[43m \u001b[49m\u001b[33;43m\"\u001b[39;49m\u001b[33;43mcolumns\u001b[39;49m\u001b[33;43m\"\u001b[39;49m\u001b[43m)\u001b[49m[\u001b[32m1\u001b[39m]\n\u001b[32m   4115\u001b[39m \u001b[38;5;66;03m# take() does not accept boolean indexers\u001b[39;00m\n\u001b[32m   4116\u001b[39m \u001b[38;5;28;01mif\u001b[39;00m \u001b[38;5;28mgetattr\u001b[39m(indexer, \u001b[33m\"\u001b[39m\u001b[33mdtype\u001b[39m\u001b[33m\"\u001b[39m, \u001b[38;5;28;01mNone\u001b[39;00m) == \u001b[38;5;28mbool\u001b[39m:\n",
      "\u001b[36mFile \u001b[39m\u001b[32m~/Documents/breast-cancer/breast_env/lib/python3.12/site-packages/pandas/core/indexes/base.py:6212\u001b[39m, in \u001b[36mIndex._get_indexer_strict\u001b[39m\u001b[34m(self, key, axis_name)\u001b[39m\n\u001b[32m   6209\u001b[39m \u001b[38;5;28;01melse\u001b[39;00m:\n\u001b[32m   6210\u001b[39m     keyarr, indexer, new_indexer = \u001b[38;5;28mself\u001b[39m._reindex_non_unique(keyarr)\n\u001b[32m-> \u001b[39m\u001b[32m6212\u001b[39m \u001b[38;5;28;43mself\u001b[39;49m\u001b[43m.\u001b[49m\u001b[43m_raise_if_missing\u001b[49m\u001b[43m(\u001b[49m\u001b[43mkeyarr\u001b[49m\u001b[43m,\u001b[49m\u001b[43m \u001b[49m\u001b[43mindexer\u001b[49m\u001b[43m,\u001b[49m\u001b[43m \u001b[49m\u001b[43maxis_name\u001b[49m\u001b[43m)\u001b[49m\n\u001b[32m   6214\u001b[39m keyarr = \u001b[38;5;28mself\u001b[39m.take(indexer)\n\u001b[32m   6215\u001b[39m \u001b[38;5;28;01mif\u001b[39;00m \u001b[38;5;28misinstance\u001b[39m(key, Index):\n\u001b[32m   6216\u001b[39m     \u001b[38;5;66;03m# GH 42790 - Preserve name from an Index\u001b[39;00m\n",
      "\u001b[36mFile \u001b[39m\u001b[32m~/Documents/breast-cancer/breast_env/lib/python3.12/site-packages/pandas/core/indexes/base.py:6261\u001b[39m, in \u001b[36mIndex._raise_if_missing\u001b[39m\u001b[34m(self, key, indexer, axis_name)\u001b[39m\n\u001b[32m   6259\u001b[39m \u001b[38;5;28;01mif\u001b[39;00m nmissing:\n\u001b[32m   6260\u001b[39m     \u001b[38;5;28;01mif\u001b[39;00m nmissing == \u001b[38;5;28mlen\u001b[39m(indexer):\n\u001b[32m-> \u001b[39m\u001b[32m6261\u001b[39m         \u001b[38;5;28;01mraise\u001b[39;00m \u001b[38;5;167;01mKeyError\u001b[39;00m(\u001b[33mf\u001b[39m\u001b[33m\"\u001b[39m\u001b[33mNone of [\u001b[39m\u001b[38;5;132;01m{\u001b[39;00mkey\u001b[38;5;132;01m}\u001b[39;00m\u001b[33m] are in the [\u001b[39m\u001b[38;5;132;01m{\u001b[39;00maxis_name\u001b[38;5;132;01m}\u001b[39;00m\u001b[33m]\u001b[39m\u001b[33m\"\u001b[39m)\n\u001b[32m   6263\u001b[39m     not_found = \u001b[38;5;28mlist\u001b[39m(ensure_index(key)[missing_mask.nonzero()[\u001b[32m0\u001b[39m]].unique())\n\u001b[32m   6264\u001b[39m     \u001b[38;5;28;01mraise\u001b[39;00m \u001b[38;5;167;01mKeyError\u001b[39;00m(\u001b[33mf\u001b[39m\u001b[33m\"\u001b[39m\u001b[38;5;132;01m{\u001b[39;00mnot_found\u001b[38;5;132;01m}\u001b[39;00m\u001b[33m not in index\u001b[39m\u001b[33m\"\u001b[39m)\n",
      "\u001b[31mKeyError\u001b[39m: \"None of [Index(['SITEO2V', 'ICDOT10V', 'PLC_BRTH_CNTRY', 'PLC_BRTH_STATE'], dtype='object')] are in the [columns]\""
     ]
    }
   ],
   "source": [
    "cols_to_encode = ['SITEO2V', 'ICDOT10V', 'PLC_BRTH_CNTRY', 'PLC_BRTH_STATE']\n",
    "\n",
    "# Apply one-hot encoding\n",
    "df = pd.get_dummies(df, columns=cols_to_encode, drop_first=True)\n"
   ]
  },
  {
   "cell_type": "code",
   "execution_count": 37,
   "id": "781b741d",
   "metadata": {},
   "outputs": [],
   "source": [
    "# Automatically find all remaining non-numeric (object or category) columns\n",
    "non_numeric_cols = df.select_dtypes(include=['object', 'category']).columns.tolist()\n",
    "\n",
    "# Then one-hot encode them safely\n",
    "if non_numeric_cols:\n",
    "    df = pd.get_dummies(df, columns=non_numeric_cols, drop_first=True)\n"
   ]
  },
  {
   "cell_type": "code",
   "execution_count": 38,
   "id": "d265b109",
   "metadata": {},
   "outputs": [],
   "source": [
    "X = df.drop(columns=['is_malignant'])\n",
    "y = df['is_malignant']\n"
   ]
  },
  {
   "cell_type": "code",
   "execution_count": 39,
   "id": "e7fa84ce",
   "metadata": {},
   "outputs": [
    {
     "name": "stdout",
     "output_type": "stream",
     "text": [
      "              precision    recall  f1-score   support\n",
      "\n",
      "           0       1.00      1.00      1.00      1755\n",
      "           1       1.00      1.00      1.00     10245\n",
      "\n",
      "    accuracy                           1.00     12000\n",
      "   macro avg       1.00      1.00      1.00     12000\n",
      "weighted avg       1.00      1.00      1.00     12000\n",
      "\n"
     ]
    }
   ],
   "source": [
    "from sklearn.model_selection import train_test_split\n",
    "from sklearn.linear_model import LogisticRegression\n",
    "from sklearn.metrics import classification_report\n",
    "\n",
    "X_train, X_test, y_train, y_test = train_test_split(X, y, test_size=0.2, random_state=42)\n",
    "\n",
    "model = LogisticRegression(max_iter=1000)\n",
    "model.fit(X_train, y_train)\n",
    "\n",
    "y_pred = model.predict(X_test)\n",
    "print(classification_report(y_test, y_pred))\n"
   ]
  },
  {
   "cell_type": "code",
   "execution_count": 40,
   "id": "fb7b0b54",
   "metadata": {},
   "outputs": [],
   "source": [
    "X = df.drop(columns=['STAT_REC'])\n",
    "y = df['STAT_REC']\n"
   ]
  },
  {
   "cell_type": "code",
   "execution_count": 41,
   "id": "864cb807",
   "metadata": {},
   "outputs": [
    {
     "name": "stdout",
     "output_type": "stream",
     "text": [
      "              precision    recall  f1-score   support\n",
      "\n",
      "           1       1.00      1.00      1.00      6464\n",
      "           4       1.00      1.00      1.00      5536\n",
      "\n",
      "    accuracy                           1.00     12000\n",
      "   macro avg       1.00      1.00      1.00     12000\n",
      "weighted avg       1.00      1.00      1.00     12000\n",
      "\n"
     ]
    }
   ],
   "source": [
    "from sklearn.model_selection import train_test_split\n",
    "from sklearn.linear_model import LogisticRegression\n",
    "from sklearn.metrics import classification_report\n",
    "\n",
    "X_train, X_test, y_train, y_test = train_test_split(X, y, test_size=0.2, random_state=42)\n",
    "\n",
    "model = LogisticRegression(max_iter=1000)\n",
    "model.fit(X_train, y_train)\n",
    "\n",
    "y_pred = model.predict(X_test)\n",
    "print(classification_report(y_test, y_pred))\n"
   ]
  }
 ],
 "metadata": {
  "kernelspec": {
   "display_name": "breast_env",
   "language": "python",
   "name": "python3"
  },
  "language_info": {
   "codemirror_mode": {
    "name": "ipython",
    "version": 3
   },
   "file_extension": ".py",
   "mimetype": "text/x-python",
   "name": "python",
   "nbconvert_exporter": "python",
   "pygments_lexer": "ipython3",
   "version": "3.12.11"
  }
 },
 "nbformat": 4,
 "nbformat_minor": 5
}
